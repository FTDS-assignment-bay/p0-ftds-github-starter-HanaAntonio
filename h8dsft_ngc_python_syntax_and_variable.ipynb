{
 "cells": [
  {
   "cell_type": "markdown",
   "id": "27a31980",
   "metadata": {},
   "source": [
    "#NON GRADED CHALLENGE 01 - HANA ANTONIO"
   ]
  },
  {
   "cell_type": "code",
   "execution_count": 1,
   "id": "a5207b6a",
   "metadata": {},
   "outputs": [
    {
     "name": "stdout",
     "output_type": "stream",
     "text": [
      "63\n"
     ]
    }
   ],
   "source": [
    "#Task 1\n",
    "#How many unique customer_id found in the list?\n",
    "customer_id = ['B818', 'A461', 'A092', 'A082', 'B341', 'A005', 'A092', 'A461','B219', 'B904', 'A901', 'A083', 'B904', 'A092', 'B341', 'B821','B341', 'B821', 'B904', 'B818', 'A901', 'A083', 'B818', 'A082','B219', 'B219', 'A083', 'A901', 'A082', 'B341', 'B341', 'A083','A082', 'B219', 'B439', 'A461', 'A005', 'A901', 'B341', 'A082','A083', 'A461', 'A083', 'A901', 'A461', 'A083', 'A082', 'A083','B341', 'A901', 'A082', 'A461', 'B219', 'A083', 'B818', 'B821','A092', 'B341', 'A461', 'A092', 'A083', 'B821', 'A092']\n",
    "\n",
    "print(len(customer_id))"
   ]
  },
  {
   "cell_type": "code",
   "execution_count": null,
   "id": "fa7cb49a",
   "metadata": {},
   "outputs": [
    {
     "name": "stdout",
     "output_type": "stream",
     "text": [
      "16\n",
      "[36, 49, 64, 81]\n",
      "[100, 81, 64, 49, 36, 25, 16, 9, 4, 1]\n"
     ]
    }
   ],
   "source": [
    "#Task 2\n",
    "#Given list of:\n",
    "# Data = [1, 4, 9, 16, 25, 36, 49,  64, 81, 100]\n",
    "# Use indexing so you can get this output:\n",
    "# a.16\n",
    "# b.[36, 49, 64, 81]\n",
    "# c.[100, 81, 64, 49, 36, 25, 16, 9, 4, 1]\n",
    "Data = [1, 4, 9, 16, 25, 36, 49, 64, 81, 100]\n",
    "#a\n",
    "print(Data[3])\n",
    "\n",
    "#b\n",
    "print(Data[5:9])\n",
    "\n",
    "#c\n",
    "print(Data[::-1])"
   ]
  },
  {
   "cell_type": "code",
   "execution_count": 14,
   "id": "e8f35bac",
   "metadata": {},
   "outputs": [
    {
     "name": "stdout",
     "output_type": "stream",
     "text": [
      "dict_keys(['Nanggroe Aceh Darussalam', 'Sumatera Selatan', 'Kalimantan Barat', 'Jawa Timur', 'Sulawesi Selatan', 'Maluku'])\n",
      "dict_values(['Aceh', 'Palembang', 'Pontianak', 'Madiun', 'Makassar', 'Ambon'])\n",
      "{'Nanggroe Aceh Darussalam': 'Aceh', 'Sumatera Selatan': 'Palembang', 'Kalimantan Barat': 'Pontianak', 'Jawa Timur': 'Surabaya', 'Sulawesi Selatan': 'Makassar', 'Maluku': 'Ambon'}\n"
     ]
    }
   ],
   "source": [
    "#Task 3\n",
    "#Given a dictionary of:\n",
    "# provinsi = {'Nanggroe Aceh Darussalam': 'Aceh','Sumatera Selatan': 'Palembang','Kalimantan Barat': 'Pontianak','Jawa Timur': 'Madiun','Sulawesi Selatan': 'Makassar','Maluku': 'Ambon'}\n",
    "# What python command can be use to\n",
    "# :a.Get list of keys available in dictionary\n",
    "# b.Change 'Jawa Timur' value from 'Madiun'  to 'Surabaya'\n",
    "provinsi = {'Nanggroe Aceh Darussalam': 'Aceh','Sumatera Selatan': 'Palembang','Kalimantan Barat': 'Pontianak','Jawa Timur': 'Madiun','Sulawesi Selatan': 'Makassar','Maluku': 'Ambon'}\n",
    "#a\n",
    "prov_keys = provinsi.keys()\n",
    "print(prov_keys)\n",
    "\n",
    "#b\n",
    "prov_values = provinsi.values()\n",
    "print(prov_values)\n",
    "provinsi[\"Jawa Timur\"] = \"Surabaya\"\n",
    "print(provinsi)"
   ]
  }
 ],
 "metadata": {
  "kernelspec": {
   "display_name": "Python 3",
   "language": "python",
   "name": "python3"
  },
  "language_info": {
   "codemirror_mode": {
    "name": "ipython",
    "version": 3
   },
   "file_extension": ".py",
   "mimetype": "text/x-python",
   "name": "python",
   "nbconvert_exporter": "python",
   "pygments_lexer": "ipython3",
   "version": "3.9.23"
  }
 },
 "nbformat": 4,
 "nbformat_minor": 5
}
