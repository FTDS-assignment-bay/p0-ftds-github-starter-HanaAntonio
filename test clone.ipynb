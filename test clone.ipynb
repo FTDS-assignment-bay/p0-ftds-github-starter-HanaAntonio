{
 "cells": [
  {
   "cell_type": "markdown",
   "id": "9439742e",
   "metadata": {},
   "source": [
    "# TEST CLONE DAY 1"
   ]
  },
  {
   "cell_type": "markdown",
   "id": "1cd6f49a",
   "metadata": {},
   "source": [
    "How to test clone from day 1"
   ]
  },
  {
   "cell_type": "markdown",
   "id": "0a389611",
   "metadata": {},
   "source": [
    "When you regret that you went to medical school instead of computer science school lol \n",
    "I should have been like David J Malan now hey lol - kidding\n",
    "But, I might be the slowest in the class now lol - no worries\n",
    "Still have 3 months - you can do it ^^"
   ]
  },
  {
   "cell_type": "markdown",
   "id": "e3382ffb",
   "metadata": {},
   "source": [
    "I guess this git hub can be a fun space for my notes and contemplation hey?\n",
    "Writing poem or such - lol"
   ]
  },
  {
   "cell_type": "markdown",
   "id": "d7df7a4f",
   "metadata": {},
   "source": [
    "Til next timemate - ciao !"
   ]
  }
 ],
 "metadata": {
  "language_info": {
   "name": "python"
  }
 },
 "nbformat": 4,
 "nbformat_minor": 5
}
